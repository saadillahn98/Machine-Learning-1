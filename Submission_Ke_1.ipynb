{
  "nbformat": 4,
  "nbformat_minor": 0,
  "metadata": {
    "colab": {
      "name": "Submission Ke-1",
      "provenance": [],
      "collapsed_sections": []
    },
    "kernelspec": {
      "display_name": "Python 3",
      "name": "python3"
    },
    "language_info": {
      "name": "python"
    }
  },
  "cells": [
    {
      "cell_type": "code",
      "metadata": {
        "id": "gecX6hwlcit5"
      },
      "source": [
        "#Import file\n",
        "import pandas as pd\n",
        "df = pd.read_csv('Product_tokped.csv')"
      ],
      "execution_count": null,
      "outputs": []
    },
    {
      "cell_type": "code",
      "metadata": {
        "colab": {
          "base_uri": "https://localhost:8080/"
        },
        "id": "TJtWbWwUds3x",
        "outputId": "ca996036-dad2-4bc3-9ebf-1b628097409c"
      },
      "source": [
        "df.info()"
      ],
      "execution_count": null,
      "outputs": [
        {
          "output_type": "stream",
          "text": [
            "<class 'pandas.core.frame.DataFrame'>\n",
            "RangeIndex: 4060 entries, 0 to 4059\n",
            "Data columns (total 3 columns):\n",
            " #   Column     Non-Null Count  Dtype \n",
            "---  ------     --------------  ----- \n",
            " 0   Review     4060 non-null   object\n",
            " 1   Rating     4060 non-null   int64 \n",
            " 2   Sentiment  4060 non-null   object\n",
            "dtypes: int64(1), object(2)\n",
            "memory usage: 95.3+ KB\n"
          ],
          "name": "stdout"
        }
      ]
    },
    {
      "cell_type": "code",
      "metadata": {
        "colab": {
          "base_uri": "https://localhost:8080/",
          "height": 203
        },
        "id": "ooV3MMRUdw2l",
        "outputId": "13568439-059a-43ef-d462-e84689603084"
      },
      "source": [
        "df.head()"
      ],
      "execution_count": null,
      "outputs": [
        {
          "output_type": "execute_result",
          "data": {
            "text/html": [
              "<div>\n",
              "<style scoped>\n",
              "    .dataframe tbody tr th:only-of-type {\n",
              "        vertical-align: middle;\n",
              "    }\n",
              "\n",
              "    .dataframe tbody tr th {\n",
              "        vertical-align: top;\n",
              "    }\n",
              "\n",
              "    .dataframe thead th {\n",
              "        text-align: right;\n",
              "    }\n",
              "</style>\n",
              "<table border=\"1\" class=\"dataframe\">\n",
              "  <thead>\n",
              "    <tr style=\"text-align: right;\">\n",
              "      <th></th>\n",
              "      <th>Review</th>\n",
              "      <th>Rating</th>\n",
              "      <th>Sentiment</th>\n",
              "    </tr>\n",
              "  </thead>\n",
              "  <tbody>\n",
              "    <tr>\n",
              "      <th>0</th>\n",
              "      <td>enak kuacinya</td>\n",
              "      <td>5</td>\n",
              "      <td>positive</td>\n",
              "    </tr>\n",
              "    <tr>\n",
              "      <th>1</th>\n",
              "      <td>pengiriman cepat packing bagus sesuai pesanan ...</td>\n",
              "      <td>5</td>\n",
              "      <td>positive</td>\n",
              "    </tr>\n",
              "    <tr>\n",
              "      <th>2</th>\n",
              "      <td>pengemasan luar biasa baik untuk rasa menurut ...</td>\n",
              "      <td>4</td>\n",
              "      <td>negative</td>\n",
              "    </tr>\n",
              "    <tr>\n",
              "      <th>3</th>\n",
              "      <td>terimakasih min</td>\n",
              "      <td>5</td>\n",
              "      <td>neutral</td>\n",
              "    </tr>\n",
              "    <tr>\n",
              "      <th>4</th>\n",
              "      <td>udah order untuk kesekian kali jos</td>\n",
              "      <td>5</td>\n",
              "      <td>neutral</td>\n",
              "    </tr>\n",
              "  </tbody>\n",
              "</table>\n",
              "</div>"
            ],
            "text/plain": [
              "                                              Review  Rating Sentiment\n",
              "0                                      enak kuacinya       5  positive\n",
              "1  pengiriman cepat packing bagus sesuai pesanan ...       5  positive\n",
              "2  pengemasan luar biasa baik untuk rasa menurut ...       4  negative\n",
              "3                                    terimakasih min       5   neutral\n",
              "4                 udah order untuk kesekian kali jos       5   neutral"
            ]
          },
          "metadata": {
            "tags": []
          },
          "execution_count": 6
        }
      ]
    },
    {
      "cell_type": "code",
      "metadata": {
        "id": "yp-dv_NvjYcA"
      },
      "source": [
        "df = df.drop(columns=['Rating'])"
      ],
      "execution_count": null,
      "outputs": []
    },
    {
      "cell_type": "code",
      "metadata": {
        "id": "nno5MuJBpLUk",
        "colab": {
          "base_uri": "https://localhost:8080/",
          "height": 417
        },
        "outputId": "67ef7942-9ad6-4ddb-ce58-a7edb28cfa28"
      },
      "source": [
        "category = pd.get_dummies(df.Sentiment)\n",
        "df_baru = pd.concat([df, category], axis=1)\n",
        "df_baru = df_baru.drop(columns='Sentiment')\n",
        "df_baru"
      ],
      "execution_count": null,
      "outputs": [
        {
          "output_type": "execute_result",
          "data": {
            "text/html": [
              "<div>\n",
              "<style scoped>\n",
              "    .dataframe tbody tr th:only-of-type {\n",
              "        vertical-align: middle;\n",
              "    }\n",
              "\n",
              "    .dataframe tbody tr th {\n",
              "        vertical-align: top;\n",
              "    }\n",
              "\n",
              "    .dataframe thead th {\n",
              "        text-align: right;\n",
              "    }\n",
              "</style>\n",
              "<table border=\"1\" class=\"dataframe\">\n",
              "  <thead>\n",
              "    <tr style=\"text-align: right;\">\n",
              "      <th></th>\n",
              "      <th>Review</th>\n",
              "      <th>negative</th>\n",
              "      <th>neutral</th>\n",
              "      <th>positive</th>\n",
              "    </tr>\n",
              "  </thead>\n",
              "  <tbody>\n",
              "    <tr>\n",
              "      <th>0</th>\n",
              "      <td>enak kuacinya</td>\n",
              "      <td>0</td>\n",
              "      <td>0</td>\n",
              "      <td>1</td>\n",
              "    </tr>\n",
              "    <tr>\n",
              "      <th>1</th>\n",
              "      <td>pengiriman cepat packing bagus sesuai pesanan ...</td>\n",
              "      <td>0</td>\n",
              "      <td>0</td>\n",
              "      <td>1</td>\n",
              "    </tr>\n",
              "    <tr>\n",
              "      <th>2</th>\n",
              "      <td>pengemasan luar biasa baik untuk rasa menurut ...</td>\n",
              "      <td>1</td>\n",
              "      <td>0</td>\n",
              "      <td>0</td>\n",
              "    </tr>\n",
              "    <tr>\n",
              "      <th>3</th>\n",
              "      <td>terimakasih min</td>\n",
              "      <td>0</td>\n",
              "      <td>1</td>\n",
              "      <td>0</td>\n",
              "    </tr>\n",
              "    <tr>\n",
              "      <th>4</th>\n",
              "      <td>udah order untuk kesekian kali jos</td>\n",
              "      <td>0</td>\n",
              "      <td>1</td>\n",
              "      <td>0</td>\n",
              "    </tr>\n",
              "    <tr>\n",
              "      <th>...</th>\n",
              "      <td>...</td>\n",
              "      <td>...</td>\n",
              "      <td>...</td>\n",
              "      <td>...</td>\n",
              "    </tr>\n",
              "    <tr>\n",
              "      <th>4055</th>\n",
              "      <td>seller sangat responsif rasa belum dicoba kare...</td>\n",
              "      <td>0</td>\n",
              "      <td>1</td>\n",
              "      <td>0</td>\n",
              "    </tr>\n",
              "    <tr>\n",
              "      <th>4056</th>\n",
              "      <td>imut2 banget packing aman</td>\n",
              "      <td>0</td>\n",
              "      <td>0</td>\n",
              "      <td>1</td>\n",
              "    </tr>\n",
              "    <tr>\n",
              "      <th>4057</th>\n",
              "      <td>good product trusted seller</td>\n",
              "      <td>0</td>\n",
              "      <td>0</td>\n",
              "      <td>1</td>\n",
              "    </tr>\n",
              "    <tr>\n",
              "      <th>4058</th>\n",
              "      <td>sudah beli yg ke 3</td>\n",
              "      <td>0</td>\n",
              "      <td>1</td>\n",
              "      <td>0</td>\n",
              "    </tr>\n",
              "    <tr>\n",
              "      <th>4059</th>\n",
              "      <td>byk campurannya</td>\n",
              "      <td>0</td>\n",
              "      <td>1</td>\n",
              "      <td>0</td>\n",
              "    </tr>\n",
              "  </tbody>\n",
              "</table>\n",
              "<p>4060 rows × 4 columns</p>\n",
              "</div>"
            ],
            "text/plain": [
              "                                                 Review  ...  positive\n",
              "0                                         enak kuacinya  ...         1\n",
              "1     pengiriman cepat packing bagus sesuai pesanan ...  ...         1\n",
              "2     pengemasan luar biasa baik untuk rasa menurut ...  ...         0\n",
              "3                                       terimakasih min  ...         0\n",
              "4                    udah order untuk kesekian kali jos  ...         0\n",
              "...                                                 ...  ...       ...\n",
              "4055  seller sangat responsif rasa belum dicoba kare...  ...         0\n",
              "4056                          imut2 banget packing aman  ...         1\n",
              "4057                        good product trusted seller  ...         1\n",
              "4058                                 sudah beli yg ke 3  ...         0\n",
              "4059                                    byk campurannya  ...         0\n",
              "\n",
              "[4060 rows x 4 columns]"
            ]
          },
          "metadata": {
            "tags": []
          },
          "execution_count": 9
        }
      ]
    },
    {
      "cell_type": "code",
      "metadata": {
        "id": "b6JBRXoBpyms"
      },
      "source": [
        "review = df_baru['Review'].values\n",
        "label = df_baru[['negative', 'neutral', 'positive']].values"
      ],
      "execution_count": null,
      "outputs": []
    },
    {
      "cell_type": "code",
      "metadata": {
        "id": "FmIO5p_5p9lF"
      },
      "source": [
        "from sklearn.model_selection import train_test_split\n",
        "review_latih, review_test, label_latih, label_test = train_test_split(review, label, test_size=0.2)"
      ],
      "execution_count": null,
      "outputs": []
    },
    {
      "cell_type": "code",
      "metadata": {
        "id": "Aby3wQ96qG2Q"
      },
      "source": [
        "from tensorflow.keras.preprocessing.text import Tokenizer\n",
        "from tensorflow.keras.preprocessing.sequence import pad_sequences\n",
        " \n",
        "tokenizer = Tokenizer(num_words=5000, oov_token='x')\n",
        "tokenizer.fit_on_texts(review_latih) \n",
        "tokenizer.fit_on_texts(review_test)\n",
        " \n",
        "sekuens_latih = tokenizer.texts_to_sequences(review_latih)\n",
        "sekuens_test = tokenizer.texts_to_sequences(review_test)\n",
        " \n",
        "padded_latih = pad_sequences(sekuens_latih) \n",
        "padded_test = pad_sequences(sekuens_test)"
      ],
      "execution_count": null,
      "outputs": []
    },
    {
      "cell_type": "code",
      "metadata": {
        "id": "4Hnq7oB8qUC-"
      },
      "source": [
        "import tensorflow as tf\n",
        "model = tf.keras.Sequential([\n",
        "    tf.keras.layers.Embedding(input_dim=5000, output_dim=16),\n",
        "    tf.keras.layers.LSTM(64),\n",
        "    tf.keras.layers.Dense(128, activation='relu'),\n",
        "    tf.keras.layers.Dense(64, activation='relu'),\n",
        "    tf.keras.layers.Dense(3, activation='softmax')\n",
        "])\n",
        "model.compile(loss='categorical_crossentropy',optimizer='adam',metrics=['accuracy'])"
      ],
      "execution_count": null,
      "outputs": []
    },
    {
      "cell_type": "code",
      "metadata": {
        "id": "-uq3ZX26qYKz",
        "colab": {
          "base_uri": "https://localhost:8080/"
        },
        "outputId": "f2dec263-e438-4afe-db86-c18b1ed06bb2"
      },
      "source": [
        "num_epochs = 30\n",
        "history = model.fit(padded_latih, label_latih, epochs=num_epochs, \n",
        "                    validation_data=(padded_test, label_test), verbose=2)"
      ],
      "execution_count": null,
      "outputs": [
        {
          "output_type": "stream",
          "text": [
            "Epoch 1/30\n",
            "102/102 - 13s - loss: 0.8026 - accuracy: 0.7109 - val_loss: 0.6709 - val_accuracy: 0.7143\n",
            "Epoch 2/30\n",
            "102/102 - 10s - loss: 0.5214 - accuracy: 0.7799 - val_loss: 0.5794 - val_accuracy: 0.7709\n",
            "Epoch 3/30\n",
            "102/102 - 10s - loss: 0.3410 - accuracy: 0.8725 - val_loss: 0.5265 - val_accuracy: 0.7931\n",
            "Epoch 4/30\n",
            "102/102 - 10s - loss: 0.2107 - accuracy: 0.9252 - val_loss: 0.5163 - val_accuracy: 0.8103\n",
            "Epoch 5/30\n",
            "102/102 - 10s - loss: 0.1400 - accuracy: 0.9566 - val_loss: 0.6613 - val_accuracy: 0.7968\n",
            "Epoch 6/30\n",
            "102/102 - 10s - loss: 0.1032 - accuracy: 0.9683 - val_loss: 0.6700 - val_accuracy: 0.7980\n",
            "Epoch 7/30\n",
            "102/102 - 10s - loss: 0.0807 - accuracy: 0.9760 - val_loss: 0.7506 - val_accuracy: 0.7993\n",
            "Epoch 8/30\n",
            "102/102 - 10s - loss: 0.0676 - accuracy: 0.9781 - val_loss: 0.8291 - val_accuracy: 0.7968\n",
            "Epoch 9/30\n",
            "102/102 - 10s - loss: 0.0534 - accuracy: 0.9797 - val_loss: 0.9615 - val_accuracy: 0.7919\n",
            "Epoch 10/30\n",
            "102/102 - 10s - loss: 0.0486 - accuracy: 0.9837 - val_loss: 1.0203 - val_accuracy: 0.7919\n",
            "Epoch 11/30\n",
            "102/102 - 10s - loss: 0.0640 - accuracy: 0.9781 - val_loss: 0.9704 - val_accuracy: 0.7869\n",
            "Epoch 12/30\n",
            "102/102 - 10s - loss: 0.0529 - accuracy: 0.9784 - val_loss: 1.1103 - val_accuracy: 0.7857\n",
            "Epoch 13/30\n",
            "102/102 - 10s - loss: 0.0504 - accuracy: 0.9812 - val_loss: 1.1328 - val_accuracy: 0.7956\n",
            "Epoch 14/30\n",
            "102/102 - 10s - loss: 0.0548 - accuracy: 0.9818 - val_loss: 1.0860 - val_accuracy: 0.7906\n",
            "Epoch 15/30\n",
            "102/102 - 10s - loss: 0.0423 - accuracy: 0.9840 - val_loss: 1.1722 - val_accuracy: 0.7894\n",
            "Epoch 16/30\n",
            "102/102 - 10s - loss: 0.0347 - accuracy: 0.9880 - val_loss: 1.3610 - val_accuracy: 0.7943\n",
            "Epoch 17/30\n",
            "102/102 - 10s - loss: 0.0349 - accuracy: 0.9868 - val_loss: 1.2938 - val_accuracy: 0.7845\n",
            "Epoch 18/30\n",
            "102/102 - 10s - loss: 0.0322 - accuracy: 0.9883 - val_loss: 1.4037 - val_accuracy: 0.7845\n",
            "Epoch 19/30\n",
            "102/102 - 10s - loss: 0.0288 - accuracy: 0.9901 - val_loss: 1.3532 - val_accuracy: 0.7906\n",
            "Epoch 20/30\n",
            "102/102 - 10s - loss: 0.0303 - accuracy: 0.9892 - val_loss: 1.4601 - val_accuracy: 0.7709\n",
            "Epoch 21/30\n",
            "102/102 - 10s - loss: 0.0288 - accuracy: 0.9883 - val_loss: 1.4599 - val_accuracy: 0.7808\n",
            "Epoch 22/30\n",
            "102/102 - 10s - loss: 0.0257 - accuracy: 0.9905 - val_loss: 1.6338 - val_accuracy: 0.7611\n",
            "Epoch 23/30\n",
            "102/102 - 10s - loss: 0.0280 - accuracy: 0.9883 - val_loss: 1.5760 - val_accuracy: 0.7746\n",
            "Epoch 24/30\n",
            "102/102 - 10s - loss: 0.0256 - accuracy: 0.9892 - val_loss: 1.7600 - val_accuracy: 0.7672\n",
            "Epoch 25/30\n",
            "102/102 - 10s - loss: 0.0219 - accuracy: 0.9908 - val_loss: 1.7531 - val_accuracy: 0.7463\n",
            "Epoch 26/30\n",
            "102/102 - 10s - loss: 0.0242 - accuracy: 0.9905 - val_loss: 1.7983 - val_accuracy: 0.7697\n",
            "Epoch 27/30\n",
            "102/102 - 10s - loss: 0.0208 - accuracy: 0.9901 - val_loss: 2.0512 - val_accuracy: 0.7574\n",
            "Epoch 28/30\n",
            "102/102 - 10s - loss: 0.0208 - accuracy: 0.9898 - val_loss: 2.0475 - val_accuracy: 0.7672\n",
            "Epoch 29/30\n",
            "102/102 - 10s - loss: 0.0206 - accuracy: 0.9895 - val_loss: 1.9703 - val_accuracy: 0.7611\n",
            "Epoch 30/30\n",
            "102/102 - 10s - loss: 0.0188 - accuracy: 0.9908 - val_loss: 2.0909 - val_accuracy: 0.7771\n"
          ],
          "name": "stdout"
        }
      ]
    },
    {
      "cell_type": "code",
      "metadata": {
        "id": "jmOECCvhqlP3"
      },
      "source": [
        ""
      ],
      "execution_count": null,
      "outputs": []
    }
  ]
}